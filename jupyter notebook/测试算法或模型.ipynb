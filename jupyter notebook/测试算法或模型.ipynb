{
 "cells": [
  {
   "cell_type": "code",
   "execution_count": 1,
   "metadata": {
    "collapsed": true
   },
   "outputs": [],
   "source": [
    "import numpy as np\n",
    "import matplotlib.pyplot as plt\n",
    "from sklearn import datasets"
   ]
  },
  {
   "cell_type": "code",
   "execution_count": 6,
   "metadata": {
    "collapsed": true
   },
   "outputs": [],
   "source": [
    "iris = datasets.load_iris()\n",
    "X = iris.data\n",
    "y = iris.target"
   ]
  },
  {
   "cell_type": "markdown",
   "metadata": {},
   "source": [
    "## train test split"
   ]
  },
  {
   "cell_type": "markdown",
   "metadata": {},
   "source": [
    "### 先乱序"
   ]
  },
  {
   "cell_type": "code",
   "execution_count": 10,
   "metadata": {},
   "outputs": [
    {
     "data": {
      "text/plain": [
       "array([ 10,  87,  84,  58,  81,  91,  12,   6,  28,  62, 109, 107,  31,\n",
       "       126, 105,  98,  24, 111,  76, 140, 139,  42,  55,  89,  46,  64,\n",
       "         4,  86,  30, 149, 102,  20, 116,  47, 120,  45,  44, 101,  57,\n",
       "       112,  14,  49, 128, 106,  33,  97,  21,  17,  85,  93, 113, 127,\n",
       "         0,  60,  50,  73,  26, 142,  25, 130,  90,  96, 135, 129,  69,\n",
       "        38,  65,  75,  11,  67,  61, 103,  92, 125, 131,  40,   9,  16,\n",
       "       147,  77, 110,  99,   1, 145,  22,  78, 134, 123, 118,  39,  27,\n",
       "        34,  54,  43, 124, 144,   3, 132,   2, 100,  83, 141,  94,  88,\n",
       "        74,  13, 121,  18,  79, 143,  59,  82, 108,  19,  71,  66,  41,\n",
       "        29,  68,  37,  53,  95,  23, 115, 119,  63, 133,  51,  48,  80,\n",
       "        35,  52,  15, 114,  70, 117,  72,  32, 148, 138, 146,   5, 136,\n",
       "        36,   8, 122, 104,  56, 137,   7])"
      ]
     },
     "execution_count": 10,
     "metadata": {},
     "output_type": "execute_result"
    }
   ],
   "source": [
    "# permutation(10)，表示返回一个乱序的一维向量，元素从0到10\n",
    "shuffleIndexs = np.random.permutation(len(X))\n",
    "shuffleIndexs"
   ]
  },
  {
   "cell_type": "code",
   "execution_count": 9,
   "metadata": {},
   "outputs": [
    {
     "data": {
      "text/plain": [
       "30"
      ]
     },
     "execution_count": 9,
     "metadata": {},
     "output_type": "execute_result"
    }
   ],
   "source": [
    "testRatio = 0.2\n",
    "testSize = int(len(X) * testRatio)\n",
    "testSize"
   ]
  },
  {
   "cell_type": "code",
   "execution_count": 11,
   "metadata": {
    "collapsed": true
   },
   "outputs": [],
   "source": [
    "testIndexs = shuffleIndexs[:testSize]\n",
    "trainIndexs = shuffleIndexs[testSize:]"
   ]
  },
  {
   "cell_type": "code",
   "execution_count": 12,
   "metadata": {},
   "outputs": [
    {
     "name": "stdout",
     "output_type": "stream",
     "text": [
      "(120, 4)\n",
      "(120,)\n"
     ]
    }
   ],
   "source": [
    "XTrain = X[trainIndexs]\n",
    "yTrain = y[trainIndexs]\n",
    "print(XTrain.shape)\n",
    "print(yTrain.shape)"
   ]
  },
  {
   "cell_type": "code",
   "execution_count": 13,
   "metadata": {},
   "outputs": [
    {
     "name": "stdout",
     "output_type": "stream",
     "text": [
      "(30, 4)\n",
      "(30,)\n"
     ]
    }
   ],
   "source": [
    "XTest = X[testIndexs]\n",
    "yTest = y[testIndexs]\n",
    "print(XTest.shape)\n",
    "print(yTest.shape)"
   ]
  },
  {
   "cell_type": "markdown",
   "metadata": {},
   "source": [
    "## 使用我们的训练/测试数据分割算法"
   ]
  },
  {
   "cell_type": "code",
   "execution_count": 14,
   "metadata": {},
   "outputs": [
    {
     "ename": "ModuleNotFoundError",
     "evalue": "No module named 'myML'",
     "output_type": "error",
     "traceback": [
      "\u001b[0;31m---------------------------------------------------------------------------\u001b[0m",
      "\u001b[0;31mModuleNotFoundError\u001b[0m                       Traceback (most recent call last)",
      "\u001b[0;32m<ipython-input-14-4b745f43d80e>\u001b[0m in \u001b[0;36m<module>\u001b[0;34m()\u001b[0m\n\u001b[0;32m----> 1\u001b[0;31m \u001b[0;32mfrom\u001b[0m \u001b[0mmyML\u001b[0m\u001b[0;34m.\u001b[0m\u001b[0mmodelSelection\u001b[0m \u001b[0;32mimport\u001b[0m \u001b[0mtrain_test_split\u001b[0m\u001b[0;34m\u001b[0m\u001b[0m\n\u001b[0m",
      "\u001b[0;31mModuleNotFoundError\u001b[0m: No module named 'myML'"
     ]
    }
   ],
   "source": [
    "from myML.modelSelection import train_test_split"
   ]
  },
  {
   "cell_type": "code",
   "execution_count": null,
   "metadata": {
    "collapsed": true
   },
   "outputs": [],
   "source": []
  }
 ],
 "metadata": {
  "kernelspec": {
   "display_name": "Python 3",
   "language": "python",
   "name": "python3"
  },
  "language_info": {
   "codemirror_mode": {
    "name": "ipython",
    "version": 3
   },
   "file_extension": ".py",
   "mimetype": "text/x-python",
   "name": "python",
   "nbconvert_exporter": "python",
   "pygments_lexer": "ipython3",
   "version": "3.6.3"
  }
 },
 "nbformat": 4,
 "nbformat_minor": 2
}
