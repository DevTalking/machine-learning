{
 "cells": [
  {
   "cell_type": "code",
   "execution_count": 2,
   "metadata": {
    "collapsed": true
   },
   "outputs": [],
   "source": [
    "import numpy as np\n",
    "import matplotlib.pyplot as plt\n",
    "from sklearn import datasets"
   ]
  },
  {
   "cell_type": "code",
   "execution_count": 3,
   "metadata": {
    "collapsed": true
   },
   "outputs": [],
   "source": [
    "digits = datasets.load_digits()\n",
    "X = digits.data\n",
    "y = digits.target"
   ]
  },
  {
   "cell_type": "code",
   "execution_count": 5,
   "metadata": {},
   "outputs": [],
   "source": [
    "from sklearn.model_selection import train_test_split\n",
    "X_train, X_test, y_train, y_test = train_test_split(X, y, test_size = 0.8)"
   ]
  },
  {
   "cell_type": "code",
   "execution_count": 8,
   "metadata": {},
   "outputs": [
    {
     "data": {
      "text/plain": [
       "0.93949930458970787"
      ]
     },
     "execution_count": 8,
     "metadata": {},
     "output_type": "execute_result"
    }
   ],
   "source": [
    "from sklearn.linear_model import LogisticRegression\n",
    "log_reg = LogisticRegression()\n",
    "log_reg.fit(X_train, y_train)\n",
    "log_reg.score(X_test, y_test)"
   ]
  },
  {
   "cell_type": "code",
   "execution_count": 9,
   "metadata": {
    "collapsed": true
   },
   "outputs": [],
   "source": [
    "y_predict = log_reg.predict(X_test)"
   ]
  },
  {
   "cell_type": "code",
   "execution_count": 10,
   "metadata": {},
   "outputs": [
    {
     "data": {
      "text/plain": [
       "0.93949930458970787"
      ]
     },
     "execution_count": 10,
     "metadata": {},
     "output_type": "execute_result"
    }
   ],
   "source": [
    "from sklearn.metrics import precision_score\n",
    "# precision_score方法有一个average参数，默认值为binary，既默认计算二分类问题\n",
    "# 如果要计算多分类问题，需要将average参数设置为micro\n",
    "precision_score(y_test, y_predict, average='micro')"
   ]
  },
  {
   "cell_type": "code",
   "execution_count": 11,
   "metadata": {},
   "outputs": [
    {
     "data": {
      "text/plain": [
       "array([[141,   0,   0,   0,   0,   0,   0,   0,   1,   0],\n",
       "       [  0, 132,   0,   0,   0,   0,   2,   0,   4,   2],\n",
       "       [  0,   2, 141,   0,   0,   0,   0,   0,   0,   0],\n",
       "       [  0,   0,   1, 131,   0,   5,   1,   0,  10,   0],\n",
       "       [  0,   1,   0,   0, 136,   0,   0,   1,   1,   4],\n",
       "       [  0,   0,   1,   0,   0, 141,   0,   1,   0,   0],\n",
       "       [  0,   2,   0,   0,   1,   0, 146,   0,   1,   0],\n",
       "       [  0,   1,   0,   0,   0,   0,   0, 137,   2,   2],\n",
       "       [  0,   9,   3,   0,   0,   4,   4,   1, 120,   3],\n",
       "       [  0,   1,   0,   6,   0,   1,   0,   0,   9, 126]])"
      ]
     },
     "execution_count": 11,
     "metadata": {},
     "output_type": "execute_result"
    }
   ],
   "source": [
    "from sklearn.metrics import confusion_matrix\n",
    "confusion_matrix(y_test, y_predict)"
   ]
  },
  {
   "cell_type": "code",
   "execution_count": 14,
   "metadata": {},
   "outputs": [
    {
     "data": {
      "image/png": "[encoded data removed]",
      "text/plain": [
       "<matplotlib.figure.Figure at 0x1a0e393518>"
      ]
     },
     "metadata": {},
     "output_type": "display_data"
    }
   ],
   "source": [
    "cfm = confusion_matrix(y_test, y_predict)\n",
    "plt.matshow(cfm, cmap=plt.cm.gray)\n",
    "plt.show()"
   ]
  },
  {
   "cell_type": "code",
   "execution_count": 15,
   "metadata": {
    "collapsed": true
   },
   "outputs": [],
   "source": [
    "row_sums = np.sum(cfm, axis=1)"
   ]
  },
  {
   "cell_type": "code",
   "execution_count": 16,
   "metadata": {},
   "outputs": [
    {
     "data": {
      "text/plain": [
       "array([142, 140, 143, 148, 143, 143, 150, 142, 144, 143])"
      ]
     },
     "execution_count": 16,
     "metadata": {},
     "output_type": "execute_result"
    }
   ],
   "source": [
    "row_sums"
   ]
  },
  {
   "cell_type": "code",
   "execution_count": 19,
   "metadata": {},
   "outputs": [],
   "source": [
    "err_matrix = cfm / row_sums"
   ]
  },
  {
   "cell_type": "code",
   "execution_count": 20,
   "metadata": {},
   "outputs": [
    {
     "data": {
      "text/plain": [
       "array([[ 0.99295775,  0.        ,  0.        ,  0.        ,  0.        ,\n",
       "         0.        ,  0.        ,  0.        ,  0.00694444,  0.        ],\n",
       "       [ 0.        ,  0.94285714,  0.        ,  0.        ,  0.        ,\n",
       "         0.        ,  0.01333333,  0.        ,  0.02777778,  0.01398601],\n",
       "       [ 0.        ,  0.01428571,  0.98601399,  0.        ,  0.        ,\n",
       "         0.        ,  0.        ,  0.        ,  0.        ,  0.        ],\n",
       "       [ 0.        ,  0.        ,  0.00699301,  0.88513514,  0.        ,\n",
       "         0.03496503,  0.00666667,  0.        ,  0.06944444,  0.        ],\n",
       "       [ 0.        ,  0.00714286,  0.        ,  0.        ,  0.95104895,\n",
       "         0.        ,  0.        ,  0.00704225,  0.00694444,  0.02797203],\n",
       "       [ 0.        ,  0.        ,  0.00699301,  0.        ,  0.        ,\n",
       "         0.98601399,  0.        ,  0.00704225,  0.        ,  0.        ],\n",
       "       [ 0.        ,  0.01428571,  0.        ,  0.        ,  0.00699301,\n",
       "         0.        ,  0.97333333,  0.        ,  0.00694444,  0.        ],\n",
       "       [ 0.        ,  0.00714286,  0.        ,  0.        ,  0.        ,\n",
       "         0.        ,  0.        ,  0.96478873,  0.01388889,  0.01398601],\n",
       "       [ 0.        ,  0.06428571,  0.02097902,  0.        ,  0.        ,\n",
       "         0.02797203,  0.02666667,  0.00704225,  0.83333333,  0.02097902],\n",
       "       [ 0.        ,  0.00714286,  0.        ,  0.04054054,  0.        ,\n",
       "         0.00699301,  0.        ,  0.        ,  0.0625    ,  0.88111888]])"
      ]
     },
     "execution_count": 20,
     "metadata": {},
     "output_type": "execute_result"
    }
   ],
   "source": [
    "err_matrix"
   ]
  },
  {
   "cell_type": "code",
   "execution_count": 21,
   "metadata": {
    "collapsed": true
   },
   "outputs": [],
   "source": [
    "np.fill_diagonal(err_matrix, 0)"
   ]
  },
  {
   "cell_type": "code",
   "execution_count": 22,
   "metadata": {},
   "outputs": [
    {
     "data": {
      "text/plain": [
       "array([[ 0.        ,  0.        ,  0.        ,  0.        ,  0.        ,\n",
       "         0.        ,  0.        ,  0.        ,  0.00694444,  0.        ],\n",
       "       [ 0.        ,  0.        ,  0.        ,  0.        ,  0.        ,\n",
       "         0.        ,  0.01333333,  0.        ,  0.02777778,  0.01398601],\n",
       "       [ 0.        ,  0.01428571,  0.        ,  0.        ,  0.        ,\n",
       "         0.        ,  0.        ,  0.        ,  0.        ,  0.        ],\n",
       "       [ 0.        ,  0.        ,  0.00699301,  0.        ,  0.        ,\n",
       "         0.03496503,  0.00666667,  0.        ,  0.06944444,  0.        ],\n",
       "       [ 0.        ,  0.00714286,  0.        ,  0.        ,  0.        ,\n",
       "         0.        ,  0.        ,  0.00704225,  0.00694444,  0.02797203],\n",
       "       [ 0.        ,  0.        ,  0.00699301,  0.        ,  0.        ,\n",
       "         0.        ,  0.        ,  0.00704225,  0.        ,  0.        ],\n",
       "       [ 0.        ,  0.01428571,  0.        ,  0.        ,  0.00699301,\n",
       "         0.        ,  0.        ,  0.        ,  0.00694444,  0.        ],\n",
       "       [ 0.        ,  0.00714286,  0.        ,  0.        ,  0.        ,\n",
       "         0.        ,  0.        ,  0.        ,  0.01388889,  0.01398601],\n",
       "       [ 0.        ,  0.06428571,  0.02097902,  0.        ,  0.        ,\n",
       "         0.02797203,  0.02666667,  0.00704225,  0.        ,  0.02097902],\n",
       "       [ 0.        ,  0.00714286,  0.        ,  0.04054054,  0.        ,\n",
       "         0.00699301,  0.        ,  0.        ,  0.0625    ,  0.        ]])"
      ]
     },
     "execution_count": 22,
     "metadata": {},
     "output_type": "execute_result"
    }
   ],
   "source": [
    "err_matrix"
   ]
  },
  {
   "cell_type": "code",
   "execution_count": 23,
   "metadata": {},
   "outputs": [
    {
     "data": {
      "image/png": "[encoded data removed]",
      "text/plain": [
       "<matplotlib.figure.Figure at 0x1a1815e2e8>"
      ]
     },
     "metadata": {},
     "output_type": "display_data"
    }
   ],
   "source": [
    "plt.matshow(err_matrix, cmap=plt.cm.gray)\n",
    "plt.show()"
   ]
  },
  {
   "cell_type": "code",
   "execution_count": null,
   "metadata": {
    "collapsed": true
   },
   "outputs": [],
   "source": []
  }
 ],
 "metadata": {
  "kernelspec": {
   "display_name": "Python 3",
   "language": "python",
   "name": "python3"
  },
  "language_info": {
   "codemirror_mode": {
    "name": "ipython",
    "version": 3
   },
   "file_extension": ".py",
   "mimetype": "text/x-python",
   "name": "python",
   "nbconvert_exporter": "python",
   "pygments_lexer": "ipython3",
   "version": "3.6.3"
  }
 },
 "nbformat": 4,
 "nbformat_minor": 2
}
