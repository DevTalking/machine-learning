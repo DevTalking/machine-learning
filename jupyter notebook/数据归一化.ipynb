{
 "cells": [
  {
   "cell_type": "markdown",
   "metadata": {},
   "source": [
    "# 最值归一化"
   ]
  },
  {
   "cell_type": "code",
   "execution_count": 1,
   "metadata": {
    "collapsed": true
   },
   "outputs": [],
   "source": [
    "import numpy as np\n",
    "import matplotlib.pyplot as plt"
   ]
  },
  {
   "cell_type": "code",
   "execution_count": 2,
   "metadata": {},
   "outputs": [
    {
     "data": {
      "text/plain": [
       "array([  4.,  78.,  93.,  29.,  17.,  29.,  93.,  67.,  25.,  42.,  12.,\n",
       "        69.,  92.,  97.,  49.,  31.,  79.,  98.,  17.,  67.,  40.,  42.,\n",
       "        67.,  86.,  57.,   9.,  15.,  57.,  83.,  84.,  71.,  98.,  83.,\n",
       "        97.,  37.,  31.,  42.,  37.,  76.,  73.,   0.,  72.,  51.,  61.,\n",
       "        70.,  94.,  80.,  82.,  63.,  18.,  97.,  29.,  14.,  47.,  18.,\n",
       "        21.,  21.,  67.,  46.,  79.,  85.,  21.,  82.,  73.,  90.,  28.,\n",
       "        32.,  26.,  48.,  29.,  70.,  18.,  68.,  21.,  19.,  67.,  67.,\n",
       "        58.,  69.,  77.,  39.,  55.,  65.,   6.,   5.,  19.,  32.,  44.,\n",
       "        26.,   7.,  42.,  22.,  53.,  62.,  66.,  83.,  12.,  33.,  59.,\n",
       "         4.])"
      ]
     },
     "execution_count": 2,
     "metadata": {},
     "output_type": "execute_result"
    }
   ],
   "source": [
    "x = np.random.randint(0, 100, size = 100)\n",
    "x = np.array(x, dtype = float)\n",
    "x"
   ]
  },
  {
   "cell_type": "code",
   "execution_count": 3,
   "metadata": {},
   "outputs": [
    {
     "data": {
      "text/plain": [
       "array([ 0.04081633,  0.79591837,  0.94897959,  0.29591837,  0.17346939,\n",
       "        0.29591837,  0.94897959,  0.68367347,  0.25510204,  0.42857143,\n",
       "        0.12244898,  0.70408163,  0.93877551,  0.98979592,  0.5       ,\n",
       "        0.31632653,  0.80612245,  1.        ,  0.17346939,  0.68367347,\n",
       "        0.40816327,  0.42857143,  0.68367347,  0.87755102,  0.58163265,\n",
       "        0.09183673,  0.15306122,  0.58163265,  0.84693878,  0.85714286,\n",
       "        0.7244898 ,  1.        ,  0.84693878,  0.98979592,  0.37755102,\n",
       "        0.31632653,  0.42857143,  0.37755102,  0.7755102 ,  0.74489796,\n",
       "        0.        ,  0.73469388,  0.52040816,  0.62244898,  0.71428571,\n",
       "        0.95918367,  0.81632653,  0.83673469,  0.64285714,  0.18367347,\n",
       "        0.98979592,  0.29591837,  0.14285714,  0.47959184,  0.18367347,\n",
       "        0.21428571,  0.21428571,  0.68367347,  0.46938776,  0.80612245,\n",
       "        0.86734694,  0.21428571,  0.83673469,  0.74489796,  0.91836735,\n",
       "        0.28571429,  0.32653061,  0.26530612,  0.48979592,  0.29591837,\n",
       "        0.71428571,  0.18367347,  0.69387755,  0.21428571,  0.19387755,\n",
       "        0.68367347,  0.68367347,  0.59183673,  0.70408163,  0.78571429,\n",
       "        0.39795918,  0.56122449,  0.66326531,  0.06122449,  0.05102041,\n",
       "        0.19387755,  0.32653061,  0.44897959,  0.26530612,  0.07142857,\n",
       "        0.42857143,  0.2244898 ,  0.54081633,  0.63265306,  0.67346939,\n",
       "        0.84693878,  0.12244898,  0.33673469,  0.60204082,  0.04081633])"
      ]
     },
     "execution_count": 3,
     "metadata": {},
     "output_type": "execute_result"
    }
   ],
   "source": [
    "x_scale = (x - np.min(x)) / (np.max(x) - np.min(x))\n",
    "x_scale"
   ]
  },
  {
   "cell_type": "code",
   "execution_count": 4,
   "metadata": {},
   "outputs": [
    {
     "data": {
      "text/plain": [
       "array([[25, 42],\n",
       "       [40, 17],\n",
       "       [48, 34],\n",
       "       [ 0,  9],\n",
       "       [ 0, 72],\n",
       "       [19, 66],\n",
       "       [78, 46],\n",
       "       [66,  7],\n",
       "       [58, 22],\n",
       "       [46, 11]])"
      ]
     },
     "execution_count": 4,
     "metadata": {},
     "output_type": "execute_result"
    }
   ],
   "source": [
    "X = np.random.randint(0, 100, (50, 2))\n",
    "X[:10, :]"
   ]
  },
  {
   "cell_type": "code",
   "execution_count": 5,
   "metadata": {},
   "outputs": [
    {
     "data": {
      "text/plain": [
       "array([[ 25.,  42.],\n",
       "       [ 40.,  17.],\n",
       "       [ 48.,  34.],\n",
       "       [  0.,   9.],\n",
       "       [  0.,  72.],\n",
       "       [ 19.,  66.],\n",
       "       [ 78.,  46.],\n",
       "       [ 66.,   7.],\n",
       "       [ 58.,  22.],\n",
       "       [ 46.,  11.]])"
      ]
     },
     "execution_count": 5,
     "metadata": {},
     "output_type": "execute_result"
    }
   ],
   "source": [
    "X = np.array(X, dtype = float)\n",
    "X[:10, :]"
   ]
  },
  {
   "cell_type": "code",
   "execution_count": 6,
   "metadata": {
    "collapsed": true
   },
   "outputs": [],
   "source": [
    "X[:, 0] = (X[:, 0] - np.min(X[:, 0])) / (np.max(X[:, 0]) - np.min(X[:, 0]))"
   ]
  },
  {
   "cell_type": "code",
   "execution_count": 7,
   "metadata": {
    "collapsed": true
   },
   "outputs": [],
   "source": [
    "X[:, 1] = (X[:, 1] - np.min(X[:, 1])) / (np.max(X[:, 1]) - np.min(X[:, 1]))"
   ]
  },
  {
   "cell_type": "code",
   "execution_count": 8,
   "metadata": {},
   "outputs": [
    {
     "data": {
      "text/plain": [
       "array([ 0.26315789,  0.42105263,  0.50526316,  0.        ,  0.        ,\n",
       "        0.2       ,  0.82105263,  0.69473684,  0.61052632,  0.48421053,\n",
       "        0.82105263,  0.58947368,  0.54736842,  0.44210526,  0.56842105,\n",
       "        0.06315789,  0.41052632,  0.57894737,  0.32631579,  0.36842105,\n",
       "        0.26315789,  0.68421053,  0.24210526,  0.47368421,  0.03157895,\n",
       "        0.57894737,  0.33684211,  0.64210526,  0.18947368,  0.50526316,\n",
       "        0.07368421,  0.61052632,  0.29473684,  0.85263158,  0.18947368,\n",
       "        0.43157895,  0.22105263,  0.49473684,  0.32631579,  0.77894737,\n",
       "        0.31578947,  0.46315789,  0.38947368,  0.53684211,  0.82105263,\n",
       "        0.48421053,  0.        ,  0.05263158,  0.90526316,  1.        ])"
      ]
     },
     "execution_count": 8,
     "metadata": {},
     "output_type": "execute_result"
    }
   ],
   "source": [
    "X[:, 0]"
   ]
  },
  {
   "cell_type": "code",
   "execution_count": 9,
   "metadata": {},
   "outputs": [
    {
     "data": {
      "image/png": "[encoded data removed]",
      "text/plain": [
       "<matplotlib.figure.Figure at 0x115049198>"
      ]
     },
     "metadata": {},
     "output_type": "display_data"
    }
   ],
   "source": [
    "plt.scatter(X[:, 0], X[:, 1])\n",
    "plt.show()"
   ]
  },
  {
   "cell_type": "markdown",
   "metadata": {},
   "source": [
    "# 均值方差归一化"
   ]
  },
  {
   "cell_type": "code",
   "execution_count": 10,
   "metadata": {
    "collapsed": true
   },
   "outputs": [],
   "source": [
    "X2 = np.random.randint(0, 100, (50, 2))\n",
    "X2 = np.array(X2, dtype = float)"
   ]
  },
  {
   "cell_type": "code",
   "execution_count": 11,
   "metadata": {
    "collapsed": true
   },
   "outputs": [],
   "source": [
    "X2[:, 0] = (X2[:, 0] - np.mean(X2[:, 0])) / np.std(X2[:, 0])\n",
    "X2[:, 1] = (X2[:, 1] - np.mean(X2[:, 1])) / np.std(X2[:, 1])"
   ]
  },
  {
   "cell_type": "code",
   "execution_count": 12,
   "metadata": {},
   "outputs": [
    {
     "data": {
      "text/plain": [
       "array([ 1.14294134, -0.32914295, -0.25365145,  1.10519559, -0.93307497,\n",
       "       -0.78209196, -1.53700698,  0.31253482,  0.68999233, -0.10266844])"
      ]
     },
     "execution_count": 12,
     "metadata": {},
     "output_type": "execute_result"
    }
   ],
   "source": [
    "X2[:10, 0]"
   ]
  },
  {
   "cell_type": "code",
   "execution_count": 13,
   "metadata": {},
   "outputs": [
    {
     "data": {
      "image/png": "[encoded data removed]",
      "text/plain": [
       "<matplotlib.figure.Figure at 0x11502b898>"
      ]
     },
     "metadata": {},
     "output_type": "display_data"
    }
   ],
   "source": [
    "plt.scatter(X2[:, 0], X2[:, 1])\n",
    "plt.show()"
   ]
  },
  {
   "cell_type": "code",
   "execution_count": 14,
   "metadata": {},
   "outputs": [
    {
     "data": {
      "text/plain": [
       "6.2172489379008772e-17"
      ]
     },
     "execution_count": 14,
     "metadata": {},
     "output_type": "execute_result"
    }
   ],
   "source": [
    "np.mean(X2[:, 0])"
   ]
  },
  {
   "cell_type": "code",
   "execution_count": 15,
   "metadata": {},
   "outputs": [
    {
     "data": {
      "text/plain": [
       "0.99999999999999989"
      ]
     },
     "execution_count": 15,
     "metadata": {},
     "output_type": "execute_result"
    }
   ],
   "source": [
    "np.std(X2[:, 0])"
   ]
  },
  {
   "cell_type": "code",
   "execution_count": null,
   "metadata": {
    "collapsed": true
   },
   "outputs": [],
   "source": []
  }
 ],
 "metadata": {
  "kernelspec": {
   "display_name": "Python 3",
   "language": "python",
   "name": "python3"
  },
  "language_info": {
   "codemirror_mode": {
    "name": "ipython",
    "version": 3
   },
   "file_extension": ".py",
   "mimetype": "text/x-python",
   "name": "python",
   "nbconvert_exporter": "python",
   "pygments_lexer": "ipython3",
   "version": "3.6.3"
  }
 },
 "nbformat": 4,
 "nbformat_minor": 2
}
